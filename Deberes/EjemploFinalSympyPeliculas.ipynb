{
 "cells": [
  {
   "cell_type": "code",
   "execution_count": 1,
   "metadata": {
    "colab": {
     "base_uri": "https://localhost:8080/"
    },
    "executionInfo": {
     "elapsed": 3801,
     "status": "ok",
     "timestamp": 1624033492374,
     "user": {
      "displayName": "Diego Quisi",
      "photoUrl": "",
      "userId": "12643342551226022422"
     },
     "user_tz": 300
    },
    "id": "WDZcceIb75v6",
    "outputId": "1152b2bd-a4b7-47ff-d0d8-b37e9754b066"
   },
   "outputs": [
    {
     "name": "stdout",
     "output_type": "stream",
     "text": [
      "Collecting simpy\n",
      "  Downloading https://files.pythonhosted.org/packages/20/f9/874b0bab83406827db93292a5bbe5acb5c18e3cea665b2f6e053292cb687/simpy-4.0.1-py2.py3-none-any.whl\n",
      "Installing collected packages: simpy\n",
      "Successfully installed simpy-4.0.1\n"
     ]
    }
   ],
   "source": [
    "pip install simpy"
   ]
  },
  {
   "cell_type": "markdown",
   "metadata": {
    "id": "OsieHvvt8LMq"
   },
   "source": [
    "**Peliculas/Cine**\n",
    "\n",
    "Tipicos:\n",
    "- Recursos\n",
    "- Condiciónd de evnetos\n",
    "- Eventos compartidos\n",
    "\n",
    "**Enunciado**:\n",
    "\n",
    "Modelar una sala de cine  con un mostrador para la venta de entradas a tres tipos de peliculas diferentes, tener en cuenta que se modela solo para un espectáculo.\n",
    "- Las personas llegan en momentos aleatorios e intentan comprar un numero aleatorio de boletos (1-6) para una pelicula al azar.\n",
    "\n",
    "- Cuando se agota las entradas a una pelicula, las personas que esperan por un boleto salen de la cola.\n",
    "\n",
    "- La sala de cine es un Contenedor que abarca todos los procesos.\n",
    "- El mostrador es un Recurso con la capacidad de uno.\n",
    "- Finalmente, si la ultima persona desea comprar más boletos de los existentes se le vende solo los que tiene el mostrador.\n"
   ]
  },
  {
   "cell_type": "code",
   "execution_count": 20,
   "metadata": {
    "colab": {
     "base_uri": "https://localhost:8080/"
    },
    "executionInfo": {
     "elapsed": 259,
     "status": "ok",
     "timestamp": 1624036356698,
     "user": {
      "displayName": "Diego Quisi",
      "photoUrl": "",
      "userId": "12643342551226022422"
     },
     "user_tz": 300
    },
    "id": "9Un-vHt-8IpY",
    "outputId": "ff8c56bc-701c-4c7a-fe7d-d55d985e1030"
   },
   "outputs": [
    {
     "name": "stdout",
     "output_type": "stream",
     "text": [
      "Teatro Carlos Crespi - UPS\n",
      "Pelicula: Conjuro 3 se agoto en el tiempo 38.4 despues de salir a la venta\n",
      "Numero de personas que salieron de la fila/renegados 14\n",
      "Pelicula: Rapidos y Furiosos 10 se agoto en el tiempo 26.9 despues de salir a la venta\n",
      "Numero de personas que salieron de la fila/renegados 8\n",
      "Pelicula: Pulp Fictions se agoto en el tiempo 37.4 despues de salir a la venta\n",
      "Numero de personas que salieron de la fila/renegados 18\n"
     ]
    }
   ],
   "source": [
    "import collections\n",
    "import random\n",
    "import simpy\n",
    "\n",
    "NUM_BOLETO = 50\n",
    "TIEMPO_SIMULACION = 120\n",
    "\n",
    "def ventaBoletos(env, num_boletos, pelicula, teatro):\n",
    "  with teatro.contador.request() as turno:\n",
    "    resultado = yield turno | teatro.sold_out[pelicula]\n",
    "    if turno not in resultado:\n",
    "      teatro.num_renegados[pelicula] += 1\n",
    "      return\n",
    "    if teatro.num_boletos[pelicula] < num_boletos:\n",
    "      yield env.timeout(0.5) \n",
    "      return\n",
    "    teatro.num_boletos[pelicula] -= num_boletos\n",
    "    if teatro.num_boletos[pelicula] < 2:\n",
    "      teatro.sold_out[pelicula].succeed()\n",
    "      teatro.tiempo_agotado[pelicula] = env.now\n",
    "      teatro.num_boletos[pelicula] = 0\n",
    "    yield env.timeout(1)\n",
    "\n",
    "\n",
    "def llegadaClientes(env, teatro):\n",
    "  while True:\n",
    "    yield env.timeout(random.expovariate(1/0.5))\n",
    "    pelicula = random.choice(teatro.peliculas)\n",
    "    num_boletos = random.randint(1, 6)\n",
    "    if teatro.num_boletos[pelicula]:\n",
    "      env.process(ventaBoletos(env, num_boletos, pelicula, teatro))\n",
    "\n",
    "\n",
    "Teatro = collections.namedtuple('Teatro', 'contador, peliculas, num_boletos, sold_out, tiempo_agotado, num_renegados')\n",
    "\n",
    "print('Teatro Carlos Crespi - UPS')\n",
    "env = simpy.Environment()\n",
    "\n",
    "contador = simpy.Resource(env,capacity=1)\n",
    "peliculas = ['Conjuro 3', 'Rapidos y Furiosos 10', 'Pulp Fictions']\n",
    "num_boletos = {pelicula: NUM_BOLETO for pelicula in peliculas}\n",
    "sold_out = {pelicula: env.event() for pelicula in peliculas}\n",
    "tiempo_agotado = {pelicula: None for pelicula in peliculas}\n",
    "num_renegados = {pelicula: 0 for pelicula in peliculas}\n",
    "\n",
    "teatro = Teatro(contador, peliculas, num_boletos, sold_out, tiempo_agotado, num_renegados)\n",
    "env.process(llegadaClientes(env, teatro))\n",
    "env.run(until=TIEMPO_SIMULACION)\n",
    "\n",
    "# Analisis y resultados\n",
    "for pelicula in peliculas:\n",
    "  if teatro.sold_out[pelicula]:\n",
    "    print('Pelicula: %s se agoto en el tiempo %.1f despues de salir a la venta' %(pelicula, teatro.tiempo_agotado[pelicula]))\n",
    "    print('Numero de personas que salieron de la fila/renegados %s' %teatro.num_renegados[pelicula])\n"
   ]
  },
  {
   "cell_type": "markdown",
   "metadata": {
    "id": "QL0GO6FrGfN2"
   },
   "source": [
    "Modificamos para agregar probabilidad a las peliculas al momento de comprar un boleto"
   ]
  },
  {
   "cell_type": "code",
   "execution_count": 41,
   "metadata": {
    "colab": {
     "base_uri": "https://localhost:8080/"
    },
    "executionInfo": {
     "elapsed": 268,
     "status": "ok",
     "timestamp": 1624036361951,
     "user": {
      "displayName": "Diego Quisi",
      "photoUrl": "",
      "userId": "12643342551226022422"
     },
     "user_tz": 300
    },
    "id": "FRJ2tR8DF9hm",
    "outputId": "26475a61-b6c0-43ce-f19d-5b41a39189d1"
   },
   "outputs": [
    {
     "name": "stdout",
     "output_type": "stream",
     "text": [
      "Teatro Carlos Crespi - UPS\n",
      "Pelicula: Conjuro 3 se agoto en el tiempo 39.7 despues de salir a la venta\n",
      "Numero de personas que salieron de la fila/renegados 8\n",
      "Pelicula: Rapidos y Furiosos 10 se agoto en el tiempo 22.2 despues de salir a la venta\n",
      "Numero de personas que salieron de la fila/renegados 3\n",
      "Pelicula: Pulp Fictions se agoto en el tiempo 50.1 despues de salir a la venta\n",
      "Numero de personas que salieron de la fila/renegados 0\n"
     ]
    },
    {
     "data": {
      "image/png": "[encoded data removed]",
      "text/plain": [
       "<Figure size 432x288 with 1 Axes>"
      ]
     },
     "metadata": {
      "needs_background": "light"
     },
     "output_type": "display_data"
    }
   ],
   "source": [
    "import collections\n",
    "import random\n",
    "import simpy\n",
    "import matplotlib.pyplot as plt\n",
    "VELOCIDAD_LLEGADA = 42\n",
    "NUM_BOLETO = 50\n",
    "TIEMPO_SIMULACION = 120\n",
    "\n",
    "veces_pelicula_vista = [0,0,0]\n",
    "def ventaBoletos(env, num_boletos, pelicula, teatro):\n",
    "  with teatro.contador.request() as turno:\n",
    "    resultado = yield turno | teatro.sold_out[pelicula]\n",
    "    if turno not in resultado:\n",
    "      teatro.num_renegados[pelicula] += 1\n",
    "      return\n",
    "    if teatro.num_boletos[pelicula] < num_boletos:\n",
    "      yield env.timeout(0.5) \n",
    "      return\n",
    "    teatro.num_boletos[pelicula] -= num_boletos\n",
    "    if teatro.num_boletos[pelicula] < 2:\n",
    "      teatro.sold_out[pelicula].succeed()\n",
    "      teatro.tiempo_agotado[pelicula] = env.now\n",
    "      teatro.num_boletos[pelicula] = 0\n",
    "    yield env.timeout(1)\n",
    "\n",
    "\n",
    "def llegadaClientes(env, teatro):\n",
    "  while True:\n",
    "    yield env.timeout(random.expovariate(1/0.5))\n",
    "    pelicula = random.choices(teatro.peliculas, teatro.probabilidad, k=1)\n",
    "    #SE OBTIENE DATOS PARA LA GRAFICA\n",
    "    if pelicula[0] == peliculas[0]:\n",
    "        veces_pelicula_vista[0] +=1\n",
    "    elif pelicula[0]== peliculas[1]:\n",
    "        veces_pelicula_vista[1] +=1\n",
    "    elif pelicula[0] == peliculas[2]:\n",
    "        veces_pelicula_vista[2] +=1\n",
    "    \n",
    "    num_boletos = random.randint(1, 6)\n",
    "    if teatro.num_boletos[pelicula[0]]:\n",
    "      env.process(ventaBoletos(env, num_boletos, pelicula[0], teatro))\n",
    "\n",
    "\n",
    "Teatro = collections.namedtuple('Teatro', 'contador, peliculas, probabilidad, num_boletos, sold_out, tiempo_agotado, num_renegados')\n",
    "\n",
    "print('Teatro Carlos Crespi - UPS')\n",
    "env = simpy.Environment()\n",
    "contador = simpy.Resource(env,capacity=1)\n",
    "peliculas = ['Conjuro 3', 'Rapidos y Furiosos 10', 'Pulp Fictions']\n",
    "probabilidad=[0.2, 0.3, 0.1]\n",
    "num_boletos = {pelicula: NUM_BOLETO for pelicula in peliculas}\n",
    "sold_out = {pelicula: env.event() for pelicula in peliculas}\n",
    "tiempo_agotado = {pelicula: None for pelicula in peliculas}\n",
    "num_renegados = {pelicula: 0 for pelicula in peliculas}\n",
    "\n",
    "teatro = Teatro(contador, peliculas, probabilidad, num_boletos, sold_out, tiempo_agotado, num_renegados)\n",
    "env.process(llegadaClientes(env, teatro))\n",
    "env.run(until=TIEMPO_SIMULACION) \n",
    "# Analisis y resultados\n",
    "for pelicula in peliculas:\n",
    "  if teatro.sold_out[pelicula]:\n",
    "    print('Pelicula: %s se agoto en el tiempo %.1f despues de salir a la venta' %(pelicula, teatro.tiempo_agotado[pelicula]))\n",
    "    print('Numero de personas que salieron de la fila/renegados %s' %teatro.num_renegados[pelicula])\n",
    "\n",
    "    \n",
    "#SE GRAFICA EL HISTOGRAMA\n",
    "plt.title('HISTOGRAMA DE VENTAS DE PELICULAS ')\n",
    "plt.hist(veces_pelicula_vista,bins=40,width=1,alpha = 1, edgecolor = 'red')\n",
    "plt.grid(axis='y',alpha = 0.75)\n",
    "s = \"Peliculas :\",peliculas[2],\"tiene > \",veces_pelicula_vista[2],peliculas[0],\"tiene > \",veces_pelicula_vista[0],peliculas[1],\"tiene > \",veces_pelicula_vista[1]\n",
    "plt.xlabel(s,fontsize = 15)\n",
    "plt.ylabel('FRECUENCIAS',fontsize = 15)\n",
    "plt.show()"
   ]
  },
  {
   "cell_type": "code",
   "execution_count": 2,
   "metadata": {},
   "outputs": [],
   "source": [
    "#SE GRAFICA LA SIMULACION DE TEATRO\n",
    "import pygame, sys\n",
    "pygame.init()\n",
    "\n",
    "#SE DEFINE LOS COLORES\n",
    "BLACK = (0,0,0)\n",
    "WHITE = (255,255,255)\n",
    "GREEN = (0,255,0)\n",
    "RED = (255,0,0)\n",
    "BLUE = (0,0,255)\n",
    "size=(800,500)\n",
    "screen = pygame.display.set_mode(size)\n",
    "screen.fill(WHITE)\n",
    "\n",
    "for x in range(100,700,100):\n",
    "    pygame.draw.rect(screen,BLACK,(x,230,50,50))\n",
    "    pygame.draw.line(screen,GREEN,(x,0),(x,100),5)\n",
    "pygame.display.flip()"
   ]
  },
  {
   "cell_type": "markdown",
   "metadata": {
    "id": "g6QbVDV7HN7F"
   },
   "source": [
    "**Tarea/Practica**\n",
    "\n",
    "Al modelo de simulación de la venta de boletos de un teatro/cine agregar la simulación grafica 2D/3D utilizando cualquier libreria grafica, por ejemplo pygame/tkinter, etc. generar un informe en formato PDF que me permita evidenciar la simulación y generar una grafica/reporte de los resultados."
   ]
  }
 ],
 "metadata": {
  "colab": {
   "authorship_tag": "ABX9TyMdB+zRwyXiYA3tAQIBzSlI",
   "collapsed_sections": [],
   "name": "EjemploFinalSympyPeliculas.ipynb",
   "provenance": []
  },
  "kernelspec": {
   "display_name": "Python 3",
   "language": "python",
   "name": "python3"
  },
  "language_info": {
   "codemirror_mode": {
    "name": "ipython",
    "version": 3
   },
   "file_extension": ".py",
   "mimetype": "text/x-python",
   "name": "python",
   "nbconvert_exporter": "python",
   "pygments_lexer": "ipython3",
   "version": "3.8.8"
  }
 },
 "nbformat": 4,
 "nbformat_minor": 1
}
